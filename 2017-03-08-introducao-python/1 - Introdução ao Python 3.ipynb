{
 "cells": [
  {
   "cell_type": "markdown",
   "metadata": {},
   "source": [
    "## Tópicos\n",
    "\n",
    "- Interpretador\n",
    "- Imprimindo mensagens na tela\n",
    "- Variáveis\n",
    "- Entrada de dados\n",
    "- Manipulações aritméticas\n",
    "- Manipulando strings\n",
    "- Datas\n",
    "- Listas\n",
    "- Dicionários\n",
    "- Tuplas\n",
    "- Lendo e gravando arquivos"
   ]
  },
  {
   "cell_type": "markdown",
   "metadata": {},
   "source": [
    "### Interpretador\n",
    "\n",
    "O Python é uma linguagem pseudo interpretada. Além disso é possível desenvolver utilizando um intepretador interativo, onde o resultado das operações aparecem imediatamente, sem a necessidade de compilar e executar o programa. Essa facilidade permite executar pequenos trechos de código de forma rápida, corrigindo eventuais problemas e executando-o novamente, tornando o desenvolvimento rápido.\n",
    "\n",
    "Os dois intepretadores mais utilizados são o do próprio Python que pode ser executado com o comando **python** conforme o exemplo abaixo:\n",
    "\n",
    "    (tf) ➜  2017-03-08-introducao-python git:(master) ✗ python\n",
    "    Python 3.6.0 |Continuum Analytics, Inc.| (default, Dec 23 2016, 13:19:00) \n",
    "    [GCC 4.2.1 Compatible Apple LLVM 6.0 (clang-600.0.57)] on darwin\n",
    "    Type \"help\", \"copyright\", \"credits\" or \"license\" for more information.\n",
    "    >>> \n",
    "    \n",
    "É importante sempre observar a versão do Python utilizada. No exemplo acima está sendo usada a versão 3.6. É recomendado utilizar esta versão pois alguns exemplos deste tutorial podem não funcionar com versões anteriores.\n",
    "\n",
    "Outro intepretador bastante conhecido é o **ipython**. Ele possui algumas vantagens em relação ao **python** como cores para destacar difentes elementos da syntaxe do programa, função de auto completar o código apertando a tecla **TAB** entre outros. Segue abaixo um exemplo do prompt de comando quando executamos o comando **ipython**.\n",
    "\n",
    "    (tf) ➜  2017-03-08-introducao-python git:(master) ✗ ipython\n",
    "    Python 3.6.0 |Continuum Analytics, Inc.| (default, Dec 23 2016, 13:19:00) \n",
    "    Type \"copyright\", \"credits\" or \"license\" for more information.\n",
    "    \n",
    "    IPython 5.3.0 -- An enhanced Interactive Python.\n",
    "    ?         -> Introduction and overview of IPython's features.\n",
    "    %quickref -> Quick reference.\n",
    "    help      -> Python's own help system.\n",
    "    object?   -> Details about 'object', use 'object??' for extra details.\n",
    "\n",
    "    In [1]:\n",
    "\n",
    "No **ipython** é possível escrever o código Python que é executado imediatamente e o resultado exibido na linha seguinte.\n",
    "\n",
    "    In [1]: print(\"Bem vindo ao Python!\")\n",
    "    Bem vindo ao Python!\n",
    "    \n",
    "No exemplo acima o comando **print** é utilizado para exibir uma mensagem na tela. Expressões matemáticas também são avaliadas e o resultado é mostrado imediatamente.\n",
    "\n",
    "    In [3]: 20 + 40\n",
    "    Out[3]: 60\n",
    "\n",
    "Apesar de o intepretador **ipython** ser extremamente útil para avaliar pequenas porções de código, nesse tutorial utilizaremos o **jupyter notebook** que permite criar anotações e códigos combinados em uma página web que pode ser facilmente compartilhada. Essa página executa também todos os códigos Python nela contidos, podendo conter gráficos, imagens, vídeos e outros recursos interessantes para ajudar a explicar o programa desenvolvido."
   ]
  },
  {
   "cell_type": "markdown",
   "metadata": {},
   "source": [
    "### Imprimindo mensagens na tela\n",
    "\n",
    "Um programa de computador só é útil se conseguir produzir algum tipo de saída. Uma das saídas possíveis são as mensagens exibidas na tela do computador (outras saídas podem ser arquivos, rede, impressoras e etc). \n",
    "\n",
    "Para mostrar uma mensagem em Python utilizamos o comando **print**."
   ]
  },
  {
   "cell_type": "code",
   "execution_count": 12,
   "metadata": {
    "collapsed": false
   },
   "outputs": [
    {
     "name": "stdout",
     "output_type": "stream",
     "text": [
      "Bem vindo ao Python\n"
     ]
    }
   ],
   "source": [
    "print(\"Bem vindo ao Python\")"
   ]
  },
  {
   "cell_type": "markdown",
   "metadata": {},
   "source": [
    "Também é possível combinar o conteúdo de variáveis com um texto para formar uma saída mais amigável para os usuários do programa"
   ]
  },
  {
   "cell_type": "code",
   "execution_count": 13,
   "metadata": {
    "collapsed": false
   },
   "outputs": [
    {
     "name": "stdout",
     "output_type": "stream",
     "text": [
      "Bem vindo Zezinho. Você tem 20 anos\n"
     ]
    }
   ],
   "source": [
    "nome = \"Zezinho\"\n",
    "idade = 20\n",
    "print(\"Bem vindo {0}. Você tem {1} anos\".format(nome, idade))"
   ]
  },
  {
   "cell_type": "markdown",
   "metadata": {},
   "source": [
    "Existem diversas formas de combinar os dados para formatar a saída do programa. O exemplo acima utiliza as notações {0} e {1} para identificar as posições onde as variávies **nome** e **idade** serão posicionadas."
   ]
  },
  {
   "cell_type": "markdown",
   "metadata": {},
   "source": [
    "É possível também substituir a notação {0} e {1} por um nome mais expressivo, que ajude a identificar o propósito de cada lacuna."
   ]
  },
  {
   "cell_type": "code",
   "execution_count": 18,
   "metadata": {
    "collapsed": false
   },
   "outputs": [
    {
     "name": "stdout",
     "output_type": "stream",
     "text": [
      "Olá Luizinho. O seu nome tem 8 letras\n"
     ]
    }
   ],
   "source": [
    "nome_usuario = \"Luizinho\"\n",
    "num_letras_nome = len(nome_usuario)\n",
    "print(\"Olá {nome}. O seu nome tem {num_letras} letras\".format(nome=nome_usuario, num_letras=num_letras_nome))"
   ]
  },
  {
   "cell_type": "markdown",
   "metadata": {},
   "source": [
    "A função **len()** retorna o tamanho de uma string, ou seja, a quantidade de letras que essa string possui. No exemplo acima foi utilizada para identificar quantas letras a variável **nome_usuario** possui."
   ]
  },
  {
   "cell_type": "markdown",
   "metadata": {},
   "source": [
    "A formatação também pode ajudar a definirmos como queremos que números sejam exibidos. Veja o exemplo:"
   ]
  },
  {
   "cell_type": "code",
   "execution_count": 15,
   "metadata": {
    "collapsed": false
   },
   "outputs": [
    {
     "name": "stdout",
     "output_type": "stream",
     "text": [
      "O valor de pi é 3.141592653589793\n"
     ]
    }
   ],
   "source": [
    "import math\n",
    "print(\"O valor de pi é {0}\".format(math.pi))"
   ]
  },
  {
   "cell_type": "markdown",
   "metadata": {},
   "source": [
    "Neste exemplo importamos uma biblioteca existente no Python chamada **math**. Ela contém diversas funções matemáticas comuns que podemos usar em nossos programas. Mas repare que na hora de mostrar o valor de PI o programa colocou diversos números após o ponto (como a linguagem utiliza notação americana é utilizado o ponto como separador decimal ao invés de vírgula, como usamos no Brasil). Podemos utilizar o comando abaixo para formatar a saída mostrando apenas dois números após a vírgula."
   ]
  },
  {
   "cell_type": "code",
   "execution_count": 16,
   "metadata": {
    "collapsed": false
   },
   "outputs": [
    {
     "name": "stdout",
     "output_type": "stream",
     "text": [
      "O valor de pi é 3.14\n"
     ]
    }
   ],
   "source": [
    "import math\n",
    "print(\"O valor de pi é {0:.2f}\".format(math.pi))"
   ]
  },
  {
   "cell_type": "markdown",
   "metadata": {},
   "source": [
    "A notação {0:.2f} permite mostrar apenas dois números após a vírgula. Podemos utilizar {0:.3f} para três números e assim por diante."
   ]
  },
  {
   "cell_type": "markdown",
   "metadata": {},
   "source": [
    "#### Exercício\n",
    "\n",
    "1. Escreva um programa que contenha o seu primeiro nome e sobrenome e variáveis distintas e mostre a mensagem de boas vindas mostrando o seu nome completo."
   ]
  },
  {
   "cell_type": "code",
   "execution_count": 17,
   "metadata": {
    "collapsed": true
   },
   "outputs": [],
   "source": [
    "#Escreva o código do exercício 1 aqui\n",
    "\n"
   ]
  },
  {
   "cell_type": "code",
   "execution_count": null,
   "metadata": {
    "collapsed": true
   },
   "outputs": [],
   "source": []
  }
 ],
 "metadata": {
  "kernelspec": {
   "display_name": "Python 3",
   "language": "python",
   "name": "python3"
  },
  "language_info": {
   "codemirror_mode": {
    "name": "ipython",
    "version": 3
   },
   "file_extension": ".py",
   "mimetype": "text/x-python",
   "name": "python",
   "nbconvert_exporter": "python",
   "pygments_lexer": "ipython3",
   "version": "3.6.0"
  }
 },
 "nbformat": 4,
 "nbformat_minor": 2
}
